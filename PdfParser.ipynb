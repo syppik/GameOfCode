{
 "cells": [
  {
   "cell_type": "code",
   "execution_count": 37,
   "metadata": {},
   "outputs": [],
   "source": [
    "from pdfminer.layout import LAParams, LTTextBox\n",
    "from pdfminer.pdfpage import PDFPage\n",
    "from pdfminer.pdfinterp import PDFResourceManager\n",
    "from pdfminer.pdfinterp import PDFPageInterpreter\n",
    "from pdfminer.converter import PDFPageAggregator\n",
    "\n",
    "from elasticsearch import helpers, Elasticsearch\n",
    "\n",
    "import concurrent.futures\n",
    "\n",
    "import time\n",
    "import os\n",
    "import hashlib"
   ]
  },
  {
   "cell_type": "code",
   "execution_count": 38,
   "metadata": {},
   "outputs": [],
   "source": [
    "def exportPDF(filename,index='test!pdf'):\n",
    "    BUF_SIZE = 65536 \n",
    "    print(filename)\n",
    "    \n",
    "    fp = open(filename, 'rb')\n",
    "    \n",
    "    sha1Hash = hashlib.sha1()\n",
    "    while True:\n",
    "        data = fp.read(BUF_SIZE)\n",
    "        if not data:\n",
    "            break\n",
    "        sha1Hash.update(data)\n",
    "    rsrcmgr = PDFResourceManager()\n",
    "    laparams = LAParams()\n",
    "    device = PDFPageAggregator(rsrcmgr, laparams=laparams)\n",
    "    interpreter = PDFPageInterpreter(rsrcmgr, device)\n",
    "    pages = PDFPage.get_pages(fp)\n",
    "\n",
    "    num_page = 0\n",
    "\n",
    "    for page in pages:\n",
    "        num_page += 1\n",
    "        interpreter.process_page(page)\n",
    "        layout = device.get_result()\n",
    "        for lobj in layout:\n",
    "            if isinstance(lobj, LTTextBox):\n",
    "                doc = {\n",
    "                    'x0': lobj.bbox[0],\n",
    "                    'y0': lobj.bbox[1],\n",
    "                    'x1':lobj.bbox[2],\n",
    "                    'y1':lobj.bbox[3],\n",
    "                    'npage':num_page,\n",
    "                    'filename':filename,\n",
    "                    'sha1':sha1Hash.hexdigest(),                    \n",
    "                    'text':lobj.get_text()\n",
    "                }\n",
    "                export2elk(index,'pdf',doc)"
   ]
  },
  {
   "cell_type": "code",
   "execution_count": 39,
   "metadata": {},
   "outputs": [],
   "source": [
    "def export2elk(index,doctype,doc):\n",
    "    es = Elasticsearch([{'host': 'localhost', 'port': 9200}])\n",
    "    res = es.index(index=index, doc_type=doctype, body=doc)"
   ]
  },
  {
   "cell_type": "code",
   "execution_count": 40,
   "metadata": {},
   "outputs": [
    {
     "name": "stdout",
     "output_type": "stream",
     "text": [
      "./pdfsamples/kiid.pdf\n",
      "./pdfsamples/libor.pdf\n",
      "./pdfsamples/prospectus.PDF\n",
      "20.26908302307129\n"
     ]
    }
   ],
   "source": [
    "Elasticsearch([{'host': 'localhost', 'port': 9200}]).indices.delete(index='new-pdf', ignore=[400, 404])\n",
    "start = time.time()\n",
    "for filename in os.listdir('./pdfsamples/'):\n",
    "    exportPDF('./pdfsamples/'+filename,'new-pdf')\n",
    "finish = time.time()\n",
    "print(finish-start)"
   ]
  },
  {
   "cell_type": "code",
   "execution_count": null,
   "metadata": {},
   "outputs": [
    {
     "name": "stdout",
     "output_type": "stream",
     "text": [
      "./pdfsamples/kiid.pdf\n",
      "./pdfsamples/libor.pdf\n",
      "./pdfsamples/prospectus.PDF\n"
     ]
    }
   ],
   "source": [
    "start = time.time()\n",
    "with concurrent.futures.ThreadPoolExecutor(max_workers=5) as executor:\n",
    "    future_to_export = {executor.submit(exportPDF, './pdfsamples/'+filename,'new-pdf'): filename for filename in os.listdir('./pdfsamples/')}\n",
    "finish = time.time()\n",
    "print(finish-start)"
   ]
  },
  {
   "cell_type": "code",
   "execution_count": null,
   "metadata": {},
   "outputs": [],
   "source": []
  }
 ],
 "metadata": {
  "kernelspec": {
   "display_name": "Python 3",
   "language": "python",
   "name": "python3"
  },
  "language_info": {
   "codemirror_mode": {
    "name": "ipython",
    "version": 3
   },
   "file_extension": ".py",
   "mimetype": "text/x-python",
   "name": "python",
   "nbconvert_exporter": "python",
   "pygments_lexer": "ipython3",
   "version": "3.6.8"
  }
 },
 "nbformat": 4,
 "nbformat_minor": 2
}
